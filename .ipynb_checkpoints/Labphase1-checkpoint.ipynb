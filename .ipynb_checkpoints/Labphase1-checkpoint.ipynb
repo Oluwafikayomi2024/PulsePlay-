{
 "cells": [
  {
   "cell_type": "code",
   "execution_count": null,
   "id": "cd591958-6703-42a4-8788-a5b861a46633",
   "metadata": {},
   "outputs": [],
   "source": []
  }
 ],
 "metadata": {
  "kernelspec": {
   "display_name": "Python 3 (ipykernel)",
   "language": "python",
   "name": "python3"
  },
  "language_info": {
   "codemirror_mode": {
    "name": "ipython",
    "version": 3
   },
   "file_extension": ".py",
   "mimetype": "text/x-python",
   "name": "python",
   "nbconvert_exporter": "python",
   "pygments_lexer": "ipython3",
   "version": "3.12.7"
  }
 },
 "nbformat": 4,
 "nbformat_minor": 5
}
