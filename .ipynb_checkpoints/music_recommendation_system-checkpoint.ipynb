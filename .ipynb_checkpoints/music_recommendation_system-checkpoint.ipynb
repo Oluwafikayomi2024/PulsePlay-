{
 "cells": [
  {
   "cell_type": "markdown",
   "id": "a18bbbf7",
   "metadata": {},
   "source": [
    "# 🎵 Music Recommendation System Notebook"
   ]
  },
  {
   "cell_type": "markdown",
   "id": "9608a184",
   "metadata": {},
   "source": [
    "## 1. Load Dataset"
   ]
  },
  {
   "cell_type": "code",
   "execution_count": null,
   "id": "17219ee5",
   "metadata": {},
   "outputs": [],
   "source": [
    "import pandas as pd\n",
    "\n",
    "# Load the dataset\n",
    "df = pd.read_csv('spotify_tracks.csv')\n",
    "df.head()"
   ]
  },
  {
   "cell_type": "markdown",
   "id": "f28195cf",
   "metadata": {},
   "source": [
    "## 2. Explore Dataset"
   ]
  },
  {
   "cell_type": "code",
   "execution_count": null,
   "id": "f475837e",
   "metadata": {},
   "outputs": [],
   "source": [
    "# Display basic info\n",
    "df.info()\n",
    "\n",
    "# Check for missing values\n",
    "df.isnull().sum()"
   ]
  },
  {
   "cell_type": "markdown",
   "id": "c282217d",
   "metadata": {},
   "source": [
    "## 3. Preprocess Data"
   ]
  },
  {
   "cell_type": "code",
   "execution_count": null,
   "id": "c61b1019",
   "metadata": {},
   "outputs": [],
   "source": [
    "# Convert genre to lowercase\n",
    "df['genre'] = df['genre'].str.lower()\n",
    "\n",
    "# Drop duplicates if any\n",
    "df.drop_duplicates(inplace=True)"
   ]
  },
  {
   "cell_type": "markdown",
   "id": "83548063",
   "metadata": {},
   "source": [
    "## 4. Define Mood to Genre Mapping"
   ]
  },
  {
   "cell_type": "code",
   "execution_count": null,
   "id": "09debb90",
   "metadata": {},
   "outputs": [],
   "source": [
    "mood_genres = {\n",
    "    'Chill': ['acoustic', 'chill', 'ambient', 'indie', 'lo-fi'],\n",
    "    'Happy': ['pop', 'dance', 'funk', 'soul', 'reggae'],\n",
    "    'Energetic': ['edm', 'electronic', 'rock', 'metal', 'house', 'techno'],\n",
    "    'Romantic': ['rnb', 'soul', 'acoustic', 'ballad'],\n",
    "    'Sad': ['acoustic', 'indie', 'blues', 'piano', 'soft-rock'],\n",
    "    'Party': ['hip hop', 'trap', 'edm', 'reggaeton', 'pop'],\n",
    "    'Focus': ['classical', 'instrumental', 'ambient', 'lo-fi', 'piano']\n",
    "}"
   ]
  },
  {
   "cell_type": "markdown",
   "id": "4eebc6bb",
   "metadata": {},
   "source": [
    "## 5. Create Mood-Based Recommendation Function"
   ]
  },
  {
   "cell_type": "code",
   "execution_count": null,
   "id": "e5b5023d",
   "metadata": {},
   "outputs": [],
   "source": [
    "def recommend_by_mood(df, mood, top_n=10):\n",
    "    genres = mood_genres.get(mood, [])\n",
    "    filtered = df[df['genre'].isin(genres)]\n",
    "    return filtered.sort_values(by='popularity', ascending=False).head(top_n)\n",
    "\n",
    "# Example usage\n",
    "recommend_by_mood(df, 'Happy')"
   ]
  },
  {
   "cell_type": "markdown",
   "id": "f1421678",
   "metadata": {},
   "source": [
    "## 6. Optional: Content-Based Recommendation Model"
   ]
  },
  {
   "cell_type": "code",
   "execution_count": null,
   "id": "a9b3b75a",
   "metadata": {},
   "outputs": [],
   "source": [
    "from sklearn.feature_extraction.text import TfidfVectorizer\n",
    "from sklearn.metrics.pairwise import cosine_similarity\n",
    "\n",
    "# Combine textual features\n",
    "df['text_features'] = df['genre'] + ' ' + df['artists'] + ' ' + df['album']\n",
    "\n",
    "# Vectorize\n",
    "vectorizer = TfidfVectorizer()\n",
    "X = vectorizer.fit_transform(df['text_features'])\n",
    "\n",
    "# Cosine similarity matrix\n",
    "cosine_sim = cosine_similarity(X, X)\n",
    "\n",
    "# Recommend similar songs to a given one\n",
    "def recommend_similar_songs(song_title, df=df, sim_matrix=cosine_sim, top_n=5):\n",
    "    idx = df[df['name'] == song_title].index[0]\n",
    "    sim_scores = list(enumerate(sim_matrix[idx]))\n",
    "    sim_scores = sorted(sim_scores, key=lambda x: x[1], reverse=True)\n",
    "    sim_indices = [i[0] for i in sim_scores[1:top_n+1]]\n",
    "    return df.iloc[sim_indices]\n",
    "\n",
    "# Example\n",
    "recommend_similar_songs('Acoustic')"
   ]
  }
 ],
 "metadata": {},
 "nbformat": 4,
 "nbformat_minor": 5
}