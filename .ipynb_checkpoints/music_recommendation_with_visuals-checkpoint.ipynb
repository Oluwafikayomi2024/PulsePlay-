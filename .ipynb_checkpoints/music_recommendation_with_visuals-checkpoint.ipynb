{
 "cells": [
  {
   "cell_type": "markdown",
   "id": "6a9bc561",
   "metadata": {},
   "source": [
    "# 🎵 Music Recommendation System Notebook"
   ]
  },
  {
   "cell_type": "markdown",
   "id": "08d55cef",
   "metadata": {},
   "source": [
    "## 1. Load Dataset"
   ]
  },
  {
   "cell_type": "code",
   "execution_count": null,
   "id": "2e440e36",
   "metadata": {},
   "outputs": [],
   "source": [
    "import pandas as pd\n",
    "import matplotlib.pyplot as plt\n",
    "import seaborn as sns\n",
    "\n",
    "# Load the dataset\n",
    "df = pd.read_csv('spotify_tracks.csv')\n",
    "df.head()"
   ]
  },
  {
   "cell_type": "markdown",
   "id": "956710bc",
   "metadata": {},
   "source": [
    "## 2. Explore Dataset"
   ]
  },
  {
   "cell_type": "code",
   "execution_count": null,
   "id": "e497c7eb",
   "metadata": {},
   "outputs": [],
   "source": [
    "# Display basic info\n",
    "df.info()\n",
    "\n",
    "# Check for missing values\n",
    "df.isnull().sum()"
   ]
  },
  {
   "cell_type": "markdown",
   "id": "85ffde95",
   "metadata": {},
   "source": [
    "## 3. Preprocess Data"
   ]
  },
  {
   "cell_type": "code",
   "execution_count": null,
   "id": "c10db3c3",
   "metadata": {},
   "outputs": [],
   "source": [
    "# Convert genre to lowercase\n",
    "df['genre'] = df['genre'].str.lower()\n",
    "\n",
    "# Drop duplicates if any\n",
    "df.drop_duplicates(inplace=True)"
   ]
  },
  {
   "cell_type": "markdown",
   "id": "3ff86abe",
   "metadata": {},
   "source": [
    "## 4. Define Mood to Genre Mapping"
   ]
  },
  {
   "cell_type": "code",
   "execution_count": null,
   "id": "03d8d31e",
   "metadata": {},
   "outputs": [],
   "source": [
    "mood_genres = {\n",
    "    'Chill': ['acoustic', 'chill', 'ambient', 'indie', 'lo-fi'],\n",
    "    'Happy': ['pop', 'dance', 'funk', 'soul', 'reggae'],\n",
    "    'Energetic': ['edm', 'electronic', 'rock', 'metal', 'house', 'techno'],\n",
    "    'Romantic': ['rnb', 'soul', 'acoustic', 'ballad'],\n",
    "    'Sad': ['acoustic', 'indie', 'blues', 'piano', 'soft-rock'],\n",
    "    'Party': ['hip hop', 'trap', 'edm', 'reggaeton', 'pop'],\n",
    "    'Focus': ['classical', 'instrumental', 'ambient', 'lo-fi', 'piano']\n",
    "}"
   ]
  },
  {
   "cell_type": "markdown",
   "id": "4330d284",
   "metadata": {},
   "source": [
    "## 5. Create Mood-Based Recommendation Function"
   ]
  },
  {
   "cell_type": "code",
   "execution_count": null,
   "id": "60952df6",
   "metadata": {},
   "outputs": [],
   "source": [
    "def recommend_by_mood(df, mood, top_n=10):\n",
    "    genres = mood_genres.get(mood, [])\n",
    "    filtered = df[df['genre'].isin(genres)]\n",
    "    return filtered.sort_values(by='popularity', ascending=False).head(top_n)\n",
    "\n",
    "# Example usage\n",
    "recommend_by_mood(df, 'Happy')"
   ]
  },
  {
   "cell_type": "markdown",
   "id": "1d8d0175",
   "metadata": {},
   "source": [
    "## 6. Content-Based Recommendation Model (Optional)"
   ]
  },
  {
   "cell_type": "code",
   "execution_count": null,
   "id": "7c09f625",
   "metadata": {},
   "outputs": [],
   "source": [
    "from sklearn.feature_extraction.text import TfidfVectorizer\n",
    "from sklearn.metrics.pairwise import cosine_similarity\n",
    "\n",
    "# Combine textual features\n",
    "df['text_features'] = df['genre'] + ' ' + df['artists'] + ' ' + df['album']\n",
    "\n",
    "# Vectorize\n",
    "vectorizer = TfidfVectorizer()\n",
    "X = vectorizer.fit_transform(df['text_features'])\n",
    "\n",
    "# Cosine similarity matrix\n",
    "cosine_sim = cosine_similarity(X, X)\n",
    "\n",
    "def recommend_similar_songs(song_title, df=df, sim_matrix=cosine_sim, top_n=5):\n",
    "    idx = df[df['name'] == song_title].index[0]\n",
    "    sim_scores = list(enumerate(sim_matrix[idx]))\n",
    "    sim_scores = sorted(sim_scores, key=lambda x: x[1], reverse=True)\n",
    "    sim_indices = [i[0] for i in sim_scores[1:top_n+1]]\n",
    "    return df.iloc[sim_indices]\n",
    "\n",
    "# Example usage\n",
    "# recommend_similar_songs('Acoustic')"
   ]
  },
  {
   "cell_type": "markdown",
   "id": "0cadbed5",
   "metadata": {},
   "source": [
    "## 7. Data Visualizations"
   ]
  },
  {
   "cell_type": "code",
   "execution_count": null,
   "id": "21957c73",
   "metadata": {},
   "outputs": [],
   "source": [
    "# Genre distribution\n",
    "genre_counts = df['genre'].value_counts().head(10)\n",
    "plt.figure(figsize=(10,5))\n",
    "genre_counts.plot(kind='bar', color='skyblue')\n",
    "plt.title(\"Top 10 Genres by Track Count\")\n",
    "plt.ylabel(\"Number of Tracks\")\n",
    "plt.xticks(rotation=45)\n",
    "plt.show()"
   ]
  },
  {
   "cell_type": "code",
   "execution_count": null,
   "id": "015a60b7",
   "metadata": {},
   "outputs": [],
   "source": [
    "# Popularity distribution\n",
    "sns.histplot(df['popularity'], bins=30, kde=True, color='orange')\n",
    "plt.title(\"Distribution of Track Popularity\")\n",
    "plt.xlabel(\"Popularity\")\n",
    "plt.ylabel(\"Count\")\n",
    "plt.show()"
   ]
  },
  {
   "cell_type": "code",
   "execution_count": null,
   "id": "b155fd1d",
   "metadata": {},
   "outputs": [],
   "source": [
    "# Duration distribution (in minutes)\n",
    "df['duration_min'] = df['duration_ms'] / 60000\n",
    "sns.histplot(df['duration_min'], bins=30, kde=True, color='green')\n",
    "plt.title(\"Distribution of Track Duration\")\n",
    "plt.xlabel(\"Duration (minutes)\")\n",
    "plt.ylabel(\"Count\")\n",
    "plt.show()"
   ]
  }
 ],
 "metadata": {},
 "nbformat": 4,
 "nbformat_minor": 5
}